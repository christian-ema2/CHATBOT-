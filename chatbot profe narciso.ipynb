{
 "cells": [
  {
   "cell_type": "code",
   "execution_count": 1,
   "id": "0b1e81de",
   "metadata": {},
   "outputs": [
    {
     "name": "stdout",
     "output_type": "stream",
     "text": [
      "Requirement already satisfied: gTTs in c:\\users\\crhistian\\anaconda3\\lib\\site-packages (2.3.0)\n",
      "Requirement already satisfied: requests~=2.28.0 in c:\\users\\crhistian\\anaconda3\\lib\\site-packages (from gTTs) (2.28.1)\n",
      "Requirement already satisfied: six~=1.16.0 in c:\\users\\crhistian\\anaconda3\\lib\\site-packages (from gTTs) (1.16.0)\n",
      "Requirement already satisfied: click~=8.1.3 in c:\\users\\crhistian\\anaconda3\\lib\\site-packages (from gTTs) (8.1.3)\n",
      "Requirement already satisfied: colorama in c:\\users\\crhistian\\anaconda3\\lib\\site-packages (from click~=8.1.3->gTTs) (0.4.4)\n",
      "Requirement already satisfied: urllib3<1.27,>=1.21.1 in c:\\users\\crhistian\\anaconda3\\lib\\site-packages (from requests~=2.28.0->gTTs) (1.26.4)\n",
      "Requirement already satisfied: certifi>=2017.4.17 in c:\\users\\crhistian\\anaconda3\\lib\\site-packages (from requests~=2.28.0->gTTs) (2020.12.5)\n",
      "Requirement already satisfied: charset-normalizer<3,>=2 in c:\\users\\crhistian\\anaconda3\\lib\\site-packages (from requests~=2.28.0->gTTs) (2.0.12)\n",
      "Requirement already satisfied: idna<4,>=2.5 in c:\\users\\crhistian\\anaconda3\\lib\\site-packages (from requests~=2.28.0->gTTs) (2.10)\n",
      "Requirement already satisfied: playsound in c:\\users\\crhistian\\anaconda3\\lib\\site-packages (1.2.2)\n",
      "Requirement already satisfied: playsound==1.2.2 in c:\\users\\crhistian\\anaconda3\\lib\\site-packages (1.2.2)\n"
     ]
    }
   ],
   "source": [
    "!pip install pathlib\n",
    "!pip install gTTs\n",
    "!pip install playsound\n",
    "!pip install playsound==1.2.2"
   ]
  },
  {
   "cell_type": "code",
   "execution_count": null,
   "id": "2651884f",
   "metadata": {},
   "outputs": [],
   "source": [
    "from gtts import gTTS\n",
    "#from playsound \n",
    "import playsound\n",
    "import os\n",
    "\n",
    "\n",
    "#--coding: utf-8\n",
    "with open(\"Contenido.txt\", \"w\") as file:\n",
    "    file.write(\"Hola como estas\")\n",
    "    file.write(\"\\n\")\n",
    "    file.write(\"Me llamo christian y seré tu asistente virtual\")\n",
    "    file.write(\"¿En que puedo ayudarte? - si prefieres puedo mostrarte todo el catalogo de productos\")\n",
    "    file.write(\"¿Ya elegiste tu compra? - ¿como desea abonarlo?\")\n",
    "    file.close()\n",
    "   \n",
    "\n",
    "    def voz(text_file, lang, name_file):\n",
    "    \n",
    "     with open(text_file, \"r\") as file:\n",
    "            text = file.read()\n",
    "            file = gTTS(text=text,lang=lang)\n",
    "            filename = name_file\n",
    "            file.save(filename)\n",
    "            \n",
    "          \n",
    "voz(\"contenido.txt\",\"es\",\"voz.mp3\")\n",
    "\n",
    "\n",
    "print(\"Reproducción\")\n",
    "audio = \"voz.mp3\"\n",
    "\n",
    "playsound.playsound('./'+ audio)\n",
    "os.remove(audio)\n",
    "print(\"Reproducido\")"
   ]
  }
 ],
 "metadata": {
  "kernelspec": {
   "display_name": "Python 3",
   "language": "python",
   "name": "python3"
  },
  "language_info": {
   "codemirror_mode": {
    "name": "ipython",
    "version": 3
   },
   "file_extension": ".py",
   "mimetype": "text/x-python",
   "name": "python",
   "nbconvert_exporter": "python",
   "pygments_lexer": "ipython3",
   "version": "3.8.8"
  }
 },
 "nbformat": 4,
 "nbformat_minor": 5
}
